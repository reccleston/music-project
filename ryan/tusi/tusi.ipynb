{
 "cells": [
  {
   "cell_type": "code",
   "execution_count": null,
   "metadata": {},
   "outputs": [],
   "source": [
    "# Tusi couple viz for 2 features:\n",
    "\n",
    "# plot features (choose n for toggling)\n",
    "# as each pt is on its one circle we can plot the sin/cos of those \n",
    "#     points with at the pt rotates around its circle and its x/y coor will display the wave\n",
    "# \n",
    "# Viz can have all pts spinning, and toggle for a given few\n",
    "\n",
    "# Can I do that and make a 'virtual vinyl player'? -->\n",
    "# Fourier analysis to uncover the sum of sin/cos functions that make \n",
    "#     up the song --> click on a given song and show all of the functions "
   ]
  }
 ],
 "metadata": {
  "kernelspec": {
   "display_name": "Python 3",
   "language": "python",
   "name": "python3"
  },
  "language_info": {
   "codemirror_mode": {
    "name": "ipython",
    "version": 3
   },
   "file_extension": ".py",
   "mimetype": "text/x-python",
   "name": "python",
   "nbconvert_exporter": "python",
   "pygments_lexer": "ipython3",
   "version": "3.8.3"
  }
 },
 "nbformat": 4,
 "nbformat_minor": 4
}
